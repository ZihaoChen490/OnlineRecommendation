{
 "cells": [
  {
   "cell_type": "code",
   "execution_count": 1,
   "metadata": {},
   "outputs": [
    {
     "name": "stderr",
     "output_type": "stream",
     "text": [
      "C:\\Anaconda\\lib\\site-packages\\gensim\\similarities\\__init__.py:15: UserWarning: The gensim.similarities.levenshtein submodule is disabled, because the optional Levenshtein package <https://pypi.org/project/python-Levenshtein/> is unavailable. Install Levenhstein (e.g. `pip install python-Levenshtein`) to suppress this warning.\n",
      "  warnings.warn(msg)\n"
     ]
    }
   ],
   "source": [
    "import tensorflow as tf\n",
    "from tensorflow.keras import layers\n",
    "from layers import AUGRU\n",
    "from activations import Dice,dice\n",
    "import pandas as pd\n",
    "from model import DIEN\n",
    "import exp_data_reader as data_reader\n",
    "import utils\n",
    "import matplotlib\n",
    "import matplotlib.pyplot as plt\n",
    "from matplotlib.font_manager import FontProperties\n",
    "from matplotlib.pyplot import MultipleLocator\n",
    "import numpy as np\n",
    "import os\n",
    "from loss import AuxLayer"
   ]
  },
  {
   "cell_type": "code",
   "execution_count": 2,
   "metadata": {},
   "outputs": [],
   "source": [
    "def mkdir(path):\n",
    "    try:\n",
    "        if not os.path.exists(path):\n",
    "            os.makedirs(path)\n",
    "        return 0\n",
    "    except:\n",
    "        return 1\n",
    "model_name = \"dien\""
   ]
  },
  {
   "cell_type": "code",
   "execution_count": 3,
   "metadata": {},
   "outputs": [],
   "source": [
    "def is_in_notebook():\n",
    "    import sys\n",
    "    return 'ipykernel' in sys.modules\n",
    "def clear_output():\n",
    "    \"\"\"\n",
    "    clear output for both jupyter notebook and the console\n",
    "    \"\"\"\n",
    "    import os\n",
    "    os.system('cls' if os.name == 'nt' else 'clear')\n",
    "    if is_in_notebook():\n",
    "        from IPython.display import clear_output as clear\n",
    "        clear()"
   ]
  },
  {
   "cell_type": "code",
   "execution_count": 4,
   "metadata": {},
   "outputs": [
    {
     "name": "stdout",
     "output_type": "stream",
     "text": [
      "2\n"
     ]
    }
   ],
   "source": [
    "print(1)\n",
    "clear_output()\n",
    "print(2)"
   ]
  },
  {
   "cell_type": "code",
   "execution_count": 5,
   "metadata": {
    "tags": []
   },
   "outputs": [
    {
     "name": "stdout",
     "output_type": "stream",
     "text": [
      "2.4.1\n",
      "WARNING:tensorflow:From <ipython-input-5-6555ca19308c>:2: is_gpu_available (from tensorflow.python.framework.test_util) is deprecated and will be removed in a future version.\n",
      "Instructions for updating:\n",
      "Use `tf.config.list_physical_devices('GPU')` instead.\n",
      "GPU Available:  False\n"
     ]
    }
   ],
   "source": [
    "print(tf.__version__)\n",
    "print(\"GPU Available: \", tf.test.is_gpu_available())"
   ]
  },
  {
   "cell_type": "code",
   "execution_count": 6,
   "metadata": {},
   "outputs": [],
   "source": [
    "file_path = \"/nfs/project/boweihan_2/DIEN/dien_final/\"\n",
    "file_path = \"\""
   ]
  },
  {
   "cell_type": "markdown",
   "metadata": {},
   "source": [
    "# 模型训练"
   ]
  },
  {
   "cell_type": "code",
   "execution_count": 7,
   "metadata": {},
   "outputs": [],
   "source": [
    "train_data,valid_data, test_data, embedding_count = data_reader.get_data()"
   ]
  },
  {
   "cell_type": "code",
   "execution_count": 8,
   "metadata": {},
   "outputs": [],
   "source": [
    "embedding_features_list = data_reader.get_embedding_features_list()\n",
    "user_behavior_features = data_reader.get_user_behavior_features()\n",
    "embedding_count_dict = data_reader.get_embedding_count_dict(embedding_features_list, embedding_count)\n",
    "embedding_dim_dict = data_reader.get_embedding_dim_dict(embedding_features_list)"
   ]
  },
  {
   "cell_type": "code",
   "execution_count": 9,
   "metadata": {},
   "outputs": [
    {
     "name": "stdout",
     "output_type": "stream",
     "text": [
      "WARNING:tensorflow:From C:\\Anaconda\\lib\\site-packages\\tensorflow\\python\\ops\\summary_ops_v2.py:1297: start (from tensorflow.python.eager.profiler) is deprecated and will be removed after 2020-07-01.\n",
      "Instructions for updating:\n",
      "use `tf.profiler.experimental.start` instead.\n"
     ]
    }
   ],
   "source": [
    "import time\n",
    "stamp = time.strftime(\"%Y%m%d-%H%M%S\", time.localtime())\n",
    "mkdir(\"./train_log/\" + model_name)\n",
    "log_path = \"./train_log/\"+model_name+\"/%s\" % stamp\n",
    "train_summary_writer = tf.summary.create_file_writer(log_path)\n",
    "tf.summary.trace_on(graph=True, profiler=True)\n",
    "loss_file_name = utils.get_file_name()\n",
    "mkdir(\"./loss/\" + model_name + \"/\")\n",
    "utils.make_train_loss_dir(loss_file_name, cols=[\"train_aux_loss\",\"train_target_loss\",\"train_final_loss\"], model=model_name)\n",
    "utils.make_test_loss_dir(loss_file_name, cols=[\"test_aux_loss\",\"test_target_loss\",\"test_final_loss\"], model=model_name)"
   ]
  },
  {
   "cell_type": "code",
   "execution_count": 10,
   "metadata": {},
   "outputs": [
    {
     "data": {
      "text/plain": [
       "<model.DIEN at 0x1b71d834f88>"
      ]
     },
     "execution_count": 10,
     "metadata": {},
     "output_type": "execute_result"
    }
   ],
   "source": [
    "min_batch = 0\n",
    "optimizer = tf.keras.optimizers.Adam(lr=1e-4, beta_1=0.9, beta_2=0.999, epsilon=1e-08, decay=0.0)\n",
    "loss_metric = tf.keras.metrics.Sum()\n",
    "auc_metric = tf.keras.metrics.AUC()\n",
    "alpha = 1\n",
    "epochs = 3\n",
    "model = DIEN(\n",
    "    embedding_count_dict, \n",
    "    embedding_dim_dict, \n",
    "    embedding_features_list, \n",
    "    user_behavior_features, \n",
    "    activation=\"dice\")\n",
    "model\n"
   ]
  },
  {
   "cell_type": "code",
   "execution_count": 11,
   "metadata": {},
   "outputs": [],
   "source": [
    "batch=2000\n",
    "click,banner_pos, id,site_id, site_domain, site_category, app_id, app_domain, app_category, device_id, device_model, device_type, device_conn_type,  hour, C1, C14,C15, C16,C17, C18,C19, C20,C21, min_batch,reshape_len = data_reader.get_batch_data(train_data, min_batch, batch = batch)"
   ]
  },
  {
   "cell_type": "code",
   "execution_count": 12,
   "metadata": {},
   "outputs": [],
   "source": [
    "user_profile_dict, user_profile_list, user_behavior_list, click_behavior_dict, noclick_behavior_dict, target_item_dict = data_reader.get_train_data( banner_pos, id,site_id, site_domain, site_category, app_id, app_domain, app_category, device_id, device_model, device_type, device_conn_type,  hour, C1, C14,C15, C16,C17, C18,C19, C20,C21, min_batch) \n"
   ]
  },
  {
   "cell_type": "code",
   "execution_count": 13,
   "metadata": {},
   "outputs": [],
   "source": [
    "def train_one_step(user_profile_dict, user_profile_list, click_behavior_dict, target_item_dict, noclick_behavior_dict, user_behavior_list, label, optimizer, model, alpha, loss_metric,batch_size):\n",
    "    with tf.GradientTape() as tape:\n",
    "        output, logit, aux_loss = model(user_profile_dict, user_profile_list, click_behavior_dict, target_item_dict, noclick_behavior_dict, user_behavior_list,batch_size)\n",
    "        target_loss = tf.reduce_mean(tf.nn.sigmoid_cross_entropy_with_logits(logits=logit,labels=tf.cast(label, dtype=tf.float32)))\n",
    "        final_loss = target_loss + alpha * aux_loss\n",
    "        print(\"[Train Step] aux_loss=\" + str(aux_loss.numpy()) + \", target_loss=\" + str(target_loss.numpy()) + \", final_loss=\" + str(final_loss.numpy()))\n",
    "    gradient = tape.gradient(final_loss, model.trainable_variables)\n",
    "    clip_gradient, _ = tf.clip_by_global_norm(gradient, 5.0)\n",
    "    optimizer.apply_gradients(zip(clip_gradient, model.trainable_variables))\n",
    "    loss_metric(final_loss)\n",
    "    return aux_loss, target_loss, final_loss"
   ]
  },
  {
   "cell_type": "code",
   "execution_count": 14,
   "metadata": {},
   "outputs": [
    {
     "name": "stdout",
     "output_type": "stream",
     "text": [
      "734003\n",
      "epoch now is 0 with 1\n",
      "0 734\n",
      "[Train Step] aux_loss=0.71077496, target_loss=0.6889999, final_loss=1.3997748\n",
      "[Train Step] aux_loss=0.7091101, target_loss=0.6812828, final_loss=1.3903929\n"
     ]
    }
   ],
   "source": [
    "train_data,valid_data, test_data, embedding_count = data_reader.get_data()\n",
    "embedding_features_list = data_reader.get_embedding_features_list()\n",
    "user_behavior_features = data_reader.get_user_behavior_features()\n",
    "embedding_count_dict = data_reader.get_embedding_count_dict(embedding_features_list, embedding_count)\n",
    "embedding_dim_dict = data_reader.get_embedding_dim_dict(embedding_features_list)\n",
    "    #for features in embedding_count_dict:\n",
    "        #print('features is', features)\n",
    "        #print(embedding_count_dict[features])\n",
    "model = DIEN(embedding_count_dict, embedding_dim_dict, embedding_features_list, user_behavior_features)\n",
    "min_batch = 0\n",
    "batch = 1000\n",
    "print(len(train_data))\n",
    "click,banner_pos, id,site_id, site_domain, site_category, app_id, app_domain, app_category, device_id, device_model, device_type, device_conn_type,  hour, C1, C14,C15, C16,C17, C18,C19, C20,C21, min_batch,reshape_len = data_reader.get_batch_data(train_data, min_batch, batch = batch)\n",
    "user_profile_dict, user_profile_list, user_behavior_list, click_behavior_dict, noclick_behavior_dict, target_item_dict = data_reader.get_train_data( banner_pos, id,site_id, site_domain, site_category, app_id, app_domain, app_category, device_id, device_model, device_type, device_conn_type,  hour, C1, C14,C15, C16,C17, C18,C19, C20,C21, min_batch) \n",
    "log_path = \"./train_log/\"\n",
    "train_summary_writer = tf.summary.create_file_writer(log_path)\n",
    "optimizer = tf.keras.optimizers.Adam(lr=1e-4, beta_1=0.9, beta_2=0.999, epsilon=1e-08, decay=0.0)\n",
    "loss_metric = tf.keras.metrics.Sum()\n",
    "auc_metric = tf.keras.metrics.AUC()\n",
    "alpha = 1\n",
    "epochs = 1\n",
    "for epoch in range(epochs):\n",
    "    print('epoch now is',epoch,'with',epochs)\n",
    "    min_batch = 0\n",
    "    for i in range(int(len(train_data) / batch)//300):\n",
    "        if i%100==0:\n",
    "            print(i,len(train_data)//batch)\n",
    "        label,banner_pos, id,site_id, site_domain, site_category, app_id, app_domain, app_category, device_id, device_model, device_type, device_conn_type,  hour, C1, C14,C15, C16,C17, C18,C19, C20,C21, min_batch,reshape_len = data_reader.get_batch_data(train_data, min_batch, batch = batch)\n",
    "        user_profile_dict, user_profile_list, user_behavior_list, click_behavior_dict, noclick_behavior_dict, target_item_dict = data_reader.get_train_data( banner_pos,id,site_id, site_domain, site_category, app_id, app_domain, app_category, device_id, device_model, device_type, device_conn_type,hour, C1, C14,C15, C16,C17, C18,C19, C20,C21, min_batch)\n",
    "        label=tf.constant(label,dtype=tf.float32)\n",
    "        train_one_step(user_profile_dict, user_profile_list, click_behavior_dict, target_item_dict, noclick_behavior_dict, user_behavior_list, label, optimizer, model, alpha, loss_metric,batch)"
   ]
  },
  {
   "cell_type": "code",
   "execution_count": 15,
   "metadata": {},
   "outputs": [],
   "source": [
    "def get_test_loss(user_profile_dict, user_profile_list, click_behavior_dict, target_item_dict, noclick_behavior_dict, user_behavior_list, label,batch_size):\n",
    "    output, logit, aux_loss = model(user_profile_dict, user_profile_list, click_behavior_dict, target_item_dict, noclick_behavior_dict, user_behavior_list,batch_size)\n",
    "    target_loss = tf.reduce_mean(tf.nn.sigmoid_cross_entropy_with_logits(logits=logit,labels=tf.cast(label, dtype=tf.float32)))\n",
    "    final_loss = target_loss + alpha * aux_loss\n",
    "    #print(\"[Test Loss] aux_loss=\" + str(aux_loss.numpy()) + \", target_loss=\" + str(target_loss.numpy()) + \", final_loss=\" + str(final_loss.numpy()))\n",
    "    return aux_loss.numpy(), target_loss.numpy(), final_loss.numpy()"
   ]
  },
  {
   "cell_type": "code",
   "execution_count": 16,
   "metadata": {},
   "outputs": [
    {
     "data": {
      "text/plain": [
       "(0.70751715, 0.6744564, 1.3819735)"
      ]
     },
     "execution_count": 16,
     "metadata": {},
     "output_type": "execute_result"
    }
   ],
   "source": [
    "get_test_loss(user_profile_dict, user_profile_list, click_behavior_dict, target_item_dict, noclick_behavior_dict, user_behavior_list, label,batch)"
   ]
  },
  {
   "cell_type": "code",
   "execution_count": 17,
   "metadata": {},
   "outputs": [
    {
     "name": "stdout",
     "output_type": "stream",
     "text": [
      "dien_1/embedding_25/embeddings:0\n",
      "dien_1/embedding_36/embeddings:0\n",
      "dien_1/embedding_37/embeddings:0\n",
      "dien_1/embedding_38/embeddings:0\n",
      "dien_1/embedding_39/embeddings:0\n",
      "dien_1/embedding_40/embeddings:0\n",
      "dien_1/embedding_41/embeddings:0\n",
      "dien_1/embedding_42/embeddings:0\n",
      "dien_1/embedding_43/embeddings:0\n",
      "dien_1/embedding_31/embeddings:0\n",
      "dien_1/embedding_30/embeddings:0\n",
      "dien_1/embedding_29/embeddings:0\n",
      "dien_1/embedding_22/embeddings:0\n",
      "dien_1/embedding_35/embeddings:0\n",
      "dien_1/embedding_32/embeddings:0\n",
      "dien_1/embedding_33/embeddings:0\n",
      "dien_1/embedding_34/embeddings:0\n",
      "dien_1/embedding_24/embeddings:0\n",
      "dien_1/embedding_23/embeddings:0\n",
      "dien_1/embedding_28/embeddings:0\n",
      "dien_1/embedding_27/embeddings:0\n",
      "dien_1/embedding_26/embeddings:0\n",
      "dien_1/gru_1/gru_cell_1/kernel:0\n",
      "dien_1/gru_1/gru_cell_1/recurrent_kernel:0\n",
      "dien_1/gru_1/gru_cell_1/bias:0\n",
      "batch_normalization_4/gamma:0\n",
      "batch_normalization_4/beta:0\n",
      "dense_12/kernel:0\n",
      "dense_12/bias:0\n",
      "dense_13/kernel:0\n",
      "dense_13/bias:0\n",
      "dense_14/kernel:0\n",
      "dense_14/bias:0\n",
      "dien_1/augru_1/gru_gates_3/dense_15/kernel:0\n",
      "dien_1/augru_1/gru_gates_3/dense_15/bias:0\n",
      "dien_1/augru_1/gru_gates_3/dense_16/kernel:0\n",
      "dien_1/augru_1/gru_gates_4/dense_17/kernel:0\n",
      "dien_1/augru_1/gru_gates_4/dense_17/bias:0\n",
      "dien_1/augru_1/gru_gates_4/dense_18/kernel:0\n",
      "dien_1/augru_1/gru_gates_5/dense_19/kernel:0\n",
      "dien_1/augru_1/gru_gates_5/dense_19/bias:0\n",
      "dien_1/augru_1/gru_gates_5/dense_20/kernel:0\n",
      "batch_normalization_5/gamma:0\n",
      "batch_normalization_5/beta:0\n",
      "dense_21/kernel:0\n",
      "dense_21/bias:0\n",
      "p_re_lu/alpha:0\n",
      "dense_22/kernel:0\n",
      "dense_22/bias:0\n",
      "p_re_lu_1/alpha:0\n",
      "dense_23/kernel:0\n",
      "dense_23/bias:0\n"
     ]
    }
   ],
   "source": [
    "for var in model.trainable_variables:\n",
    "    print(var.name)"
   ]
  },
  {
   "cell_type": "code",
   "execution_count": 18,
   "metadata": {},
   "outputs": [
    {
     "name": "stdout",
     "output_type": "stream",
     "text": [
      "                   id      hour    C1  banner_pos   site_id site_domain  \\\n",
      "0        1.000017e+19  14103100  1005           0  235ba823    f6ebf28e   \n",
      "1        1.000018e+19  14103100  1005           0  1fbe01fe    f3845767   \n",
      "2        1.000055e+19  14103100  1005           0  1fbe01fe    f3845767   \n",
      "3        1.000109e+19  14103100  1005           0  85f751fd    c4e18dd6   \n",
      "4        1.000138e+19  14103100  1005           0  85f751fd    c4e18dd6   \n",
      "...               ...       ...   ...         ...       ...         ...   \n",
      "4577459  9.998167e+18  14103123  1005           0  93eaba74    7687a86e   \n",
      "4577460  9.998250e+18  14103123  1005           0  17d1b03f    f3845767   \n",
      "4577461  9.998802e+16  14103123  1005           0  5b08c53b    7687a86e   \n",
      "4577462  9.999087e+18  14103123  1005           0  85f751fd    c4e18dd6   \n",
      "4577463  9.999264e+16  14103123  1005           0  17d1b03f    f3845767   \n",
      "\n",
      "        site_category    app_id app_domain app_category  ... device_type  \\\n",
      "0            f028772b  ecad2386   7801e8d9     07d7df22  ...           1   \n",
      "1            28905ebd  ecad2386   7801e8d9     07d7df22  ...           1   \n",
      "2            28905ebd  ecad2386   7801e8d9     07d7df22  ...           1   \n",
      "3            50e219e0  51cedd4e   aefc06bd     0f2161f8  ...           1   \n",
      "4            50e219e0  9c13b419   2347f47a     f95efa07  ...           1   \n",
      "...               ...       ...        ...          ...  ...         ...   \n",
      "4577459      3e814130  ecad2386   7801e8d9     07d7df22  ...           1   \n",
      "4577460      f028772b  ecad2386   7801e8d9     07d7df22  ...           1   \n",
      "4577461      3e814130  ecad2386   7801e8d9     07d7df22  ...           1   \n",
      "4577462      50e219e0  92f5800b   ae637522     0f2161f8  ...           1   \n",
      "4577463      f028772b  ecad2386   7801e8d9     07d7df22  ...           1   \n",
      "\n",
      "        device_conn_type    C14  C15  C16   C17  C18  C19     C20  C21  \n",
      "0                      0   8330  320   50   761    3  175  100075   23  \n",
      "1                      0  22676  320   50  2616    0   35  100083   51  \n",
      "2                      0  22676  320   50  2616    0   35  100083   51  \n",
      "3                      0  18648  320   50  1092    3  809  100156   61  \n",
      "4                      0  23160  320   50  2667    0   47      -1  221  \n",
      "...                  ...    ...  ...  ...   ...  ...  ...     ...  ...  \n",
      "4577459                0  17654  300  250  1994    2   39      -1   33  \n",
      "4577460                0  22104  320   50  2545    0  431  100084  221  \n",
      "4577461                0  17654  300  250  1994    2   39      -1   33  \n",
      "4577462                3  23857  320   50  2734    1  175  100189   71  \n",
      "4577463                0  22254  320   50  2545    0  431  100084  221  \n",
      "\n",
      "[4577464 rows x 23 columns]\n"
     ]
    }
   ],
   "source": [
    "print(test_data)"
   ]
  },
  {
   "cell_type": "code",
   "execution_count": 19,
   "metadata": {},
   "outputs": [],
   "source": [
    "def get_loss_fig(train_loss, test_loss):\n",
    "    loss_list = [\"aux_loss\", \"final_loss\"]\n",
    "    color_list = [\"r\", \"b\"]\n",
    "    plt.figure()\n",
    "    cnt = 0\n",
    "    for k in loss_list:\n",
    "        loss = train_loss[k]\n",
    "        step = list(np.arange(len(loss)))\n",
    "        plt.plot(step,loss,color_list[cnt]+\"-\",label=\"train_\" + k, linestyle=\"--\")\n",
    "        cnt += 1\n",
    "    cnt = 0\n",
    "    for k in loss_list:\n",
    "        loss = test_loss[k]\n",
    "        step = list(np.arange(len(loss)))\n",
    "        plt.plot(step,loss,color_list[cnt],label=\"test_\" + k)\n",
    "        cnt += 1\n",
    "    plt.title(\"Loss\")\n",
    "    plt.xlabel('iteration')\n",
    "    plt.ylabel('loss')\n",
    "    plt.legend()\n",
    "    clear_output()\n",
    "    plt.savefig(\"./loss/\" + model_name + \"/loss.png\")\n",
    "    clear_output()\n",
    "    plt.show()"
   ]
  },
  {
   "cell_type": "code",
   "execution_count": 20,
   "metadata": {},
   "outputs": [],
   "source": [
    "def record_test_loss(test_loss, test_data, step, batch):\n",
    "    min_batch=0\n",
    "    banner_pos, id,site_id, site_domain, site_category, app_id, app_domain, app_category, device_id, device_model, device_type, device_conn_type,  hour, C1, C14,C15, C16,C17, C18,C19, C20,C21, min_batch = data_reader.get_test_batch(test_data, min_batch, batch)\n",
    "    user_profile_dict, user_profile_list, user_behavior_list, click_behavior_dict, noclick_behavior_dict, target_item_dict = data_reader.get_test_data( banner_pos, id,site_id, site_domain, site_category, app_id, app_domain, app_category, device_id, device_model, device_type, device_conn_type,  hour, C1, C14,C15, C16,C17, C18,C19, C20,C21, min_batch) \n",
    "    aux_loss, target_loss, final_loss = get_test_loss(user_profile_dict, user_profile_list, click_behavior_dict, target_item_dict, noclick_behavior_dict, user_behavior_list, label,batch)\n",
    "    loss_dict = dict()\n",
    "    loss_dict[\"aux_loss\"] = str(aux_loss)\n",
    "    loss_dict[\"target_loss\"] = str(target_loss)\n",
    "    loss_dict[\"final_loss\"] = str(final_loss)\n",
    "    utils.add_loss(loss_dict, loss_file_name, level=\"test\")\n",
    "    test_loss[\"aux_loss\"].append(float(aux_loss))\n",
    "    test_loss[\"target_loss\"].append(float(target_loss))\n",
    "    test_loss[\"final_loss\"].append(float(final_loss))\n",
    "    with train_summary_writer.as_default():\n",
    "        tf.summary.scalar(\"test_aux_loss epoch: \"+str(epoch), aux_loss, step = step)\n",
    "        tf.summary.scalar(\"test_target_loss epoch: \"+str(epoch), target_loss, step = step)\n",
    "        tf.summary.scalar(\"test_final_loss epoch: \"+str(epoch), final_loss, step = step)"
   ]
  },
  {
   "cell_type": "code",
   "execution_count": 21,
   "metadata": {},
   "outputs": [],
   "source": [
    "mkdir(\"./checkpoint/\" + model_name)\n",
    "checkpoint_path = \"./checkpoint/\" + model_name + \"/cp-{epoch:04d}.ckpt\"\n",
    "checkpoint_dir = os.path.dirname(checkpoint_path)"
   ]
  },
  {
   "cell_type": "code",
   "execution_count": 25,
   "metadata": {},
   "outputs": [
    {
     "data": {
      "image/png": "[encoded data removed]",
      "text/plain": [
       "<Figure size 432x288 with 1 Axes>"
      ]
     },
     "metadata": {
      "needs_background": "light"
     },
     "output_type": "display_data"
    }
   ],
   "source": [
    "epcohs=3\n",
    "train_loss = {\"aux_loss\":[], \"target_loss\":[], \"final_loss\":[]}\n",
    "test_loss = {\"aux_loss\":[], \"target_loss\":[], \"final_loss\":[]}\n",
    "for epoch in range(epochs):\n",
    "    for i in range(10):\n",
    "        record_test_loss(test_loss, valid_data, i ,batch)\n",
    "        click,banner_pos, id,site_id, site_domain, site_category, app_id, app_domain, app_category, device_id, device_model, device_type, device_conn_type,  hour, C1, C14,C15, C16,C17, C18,C19, C20,C21, min_batch,reshape_len = data_reader.get_batch_data(train_data, min_batch, batch = batch)        \n",
    "        user_profile_dict, user_profile_list, user_behavior_list, click_behavior_dict, noclick_behavior_dict, target_item_dict = data_reader.get_train_data( banner_pos, id,site_id, site_domain, site_category, app_id, app_domain, app_category, device_id, device_model, device_type, device_conn_type,  hour, C1, C14,C15, C16,C17, C18,C19, C20,C21, min_batch) \n",
    "        aux_loss, target_loss, final_loss =   train_one_step(user_profile_dict, user_profile_list, click_behavior_dict, target_item_dict, noclick_behavior_dict, user_behavior_list, label, optimizer, model, alpha, loss_metric,batch)\n",
    "        #Record_loss12\n",
    "        loss_dict = dict()\n",
    "        loss_dict[\"aux_loss\"] = str(aux_loss)\n",
    "        loss_dict[\"target_loss\"] = str(target_loss)\n",
    "        loss_dict[\"final_loss\"] = str(final_loss)\n",
    "        utils.add_loss(loss_dict, loss_file_name, level=\"train\")\n",
    "        train_loss[\"aux_loss\"].append(float(aux_loss))\n",
    "        train_loss[\"target_loss\"].append(float(target_loss))\n",
    "        train_loss[\"final_loss\"].append(float(final_loss))\n",
    "        get_loss_fig(train_loss, test_loss)\n",
    "        tf.summary.trace_on(graph=True, profiler=True)\n",
    "        with train_summary_writer.as_default():\n",
    "            tf.summary.scalar(\"train_aux_loss epoch: \"+str(epoch), aux_loss, step = i)\n",
    "            tf.summary.scalar(\"train_target_loss epoch: \"+str(epoch), target_loss, step = i)\n",
    "            tf.summary.scalar(\"train_final_loss epoch: \"+str(epoch), final_loss, step = i)\n",
    "            tf.summary.trace_export(\n",
    "                name=\"DIEN\", \n",
    "                step=i, \n",
    "                profiler_outdir=log_path)\n",
    "    model.save_weights(checkpoint_path.format(epoch=epoch))"
   ]
  },
  {
   "cell_type": "markdown",
   "metadata": {},
   "source": [
    "# 模型评估"
   ]
  },
  {
   "cell_type": "code",
   "execution_count": 26,
   "metadata": {},
   "outputs": [
    {
     "name": "stdout",
     "output_type": "stream",
     "text": [
      "./checkpoint/dien\\cp-0000.ckpt\n"
     ]
    },
    {
     "data": {
      "text/plain": [
       "<tensorflow.python.training.tracking.util.CheckpointLoadStatus at 0x1b7066fcb88>"
      ]
     },
     "execution_count": 26,
     "metadata": {},
     "output_type": "execute_result"
    }
   ],
   "source": [
    "last_model = DIEN(embedding_count_dict, embedding_dim_dict, embedding_features_list, user_behavior_features, activation=\"PReLU\")\n",
    "latest = tf.train.latest_checkpoint(checkpoint_dir)\n",
    "print(latest)\n",
    "last_model.load_weights(latest)"
   ]
  },
  {
   "cell_type": "code",
   "execution_count": 27,
   "metadata": {},
   "outputs": [
    {
     "data": {
      "text/plain": [
       "(0.69459033, 0.56069225, 1.2552826)"
      ]
     },
     "execution_count": 27,
     "metadata": {},
     "output_type": "execute_result"
    }
   ],
   "source": [
    "model= last_model\n",
    "banner_pos, id,site_id, site_domain, site_category, app_id, app_domain, app_category, device_id, device_model, device_type, device_conn_type, hour, C1, C14,C15, C16,C17, C18,C19, C20,C21, min_batch= data_reader.get_test_batch(test_data,min_batch,batch)\n",
    "user_profile_dict, user_profile_list, user_behavior_list, click_behavior_dict, noclick_behavior_dict, target_item_dict = data_reader.get_train_data( banner_pos, id,site_id, site_domain, site_category, app_id, app_domain, app_category, device_id, device_model, device_type, device_conn_type,  hour, C1, C14,C15, C16,C17, C18,C19, C20,C21, min_batch) \n",
    "aux_loss, target_loss, final_loss = get_test_loss(user_profile_dict, user_profile_list, click_behavior_dict, target_item_dict, noclick_behavior_dict, user_behavior_list, label,batch)\n",
    "aux_loss, target_loss, final_loss"
   ]
  },
  {
   "cell_type": "code",
   "execution_count": 38,
   "metadata": {},
   "outputs": [],
   "source": [
    "def convert_tensor(data):\n",
    "    return tf.convert_to_tensor(data)\n",
    "def decode(text):\n",
    "    Offset=0\n",
    "    for I in text:\n",
    "        string = \"\"\n",
    "        ASCII = ord(I)\n",
    "        Result = ASCII + Offset\n",
    "    return np.array(Result).astype(np.float)\n",
    "def get_normal_data(data, col):\n",
    "    if isinstance(data[col].max(),str):\n",
    "        if int(data[col].max(),16)>1e12:\n",
    "            return np.array(list(map(decode,data[col].values))).astype(np.float)\n",
    "        return np.array(list(map(decode,data[col].values))).astype(np.float)\n",
    "    else:\n",
    "        res=np.array(list(map(decode,list(map(str,data[col]-data[col].min()+1))))).astype(np.float)\n",
    "        res=res/res.max()\n",
    "        return res\n",
    "\n",
    "def get_sequence_data(data, col):\n",
    "    rst = []\n",
    "    max_length = 0\n",
    "    for i in data[col].values:\n",
    "        temp = len(list(map(eval,i[1:-1].split(\",\"))))\n",
    "        if temp > max_length:\n",
    "            max_length = temp\n",
    "\n",
    "    for i in data[col].values:\n",
    "        temp = list(map(eval,i[1:-1].split(\",\")))\n",
    "        padding = np.zeros(max_length - len(temp))\n",
    "        rst.append(list(np.append(np.array(temp), padding)))\n",
    "    return rst\n",
    "\n",
    "def get_evaluate_data(data,batch):\n",
    "    min_batch = 0\n",
    "    batch_data = data.sample(n=batch)\n",
    "    id =get_normal_data(batch_data, \"id\")\n",
    "    banner_pos = get_normal_data(batch_data, \"banner_pos\")\n",
    "\n",
    "    hour =get_normal_data(batch_data, \"banner_pos\")\n",
    "    C1=get_normal_data(batch_data, \"C1\")\n",
    "    C14=get_normal_data(batch_data, \"C14\")\n",
    "    C15=get_normal_data(batch_data, \"C15\")\n",
    "    C16=get_normal_data(batch_data, \"C16\")\n",
    "    C17=get_normal_data(batch_data, \"C17\")\n",
    "    C18=get_normal_data(batch_data, \"C18\")\n",
    "    C19=get_normal_data(batch_data, \"C19\")\n",
    "    C20=get_normal_data(batch_data, \"C20\")\n",
    "    C21=get_normal_data(batch_data, \"C21\")\n",
    "    #no_click = get_normal_data(batch_data, \"guide_dien_final_train_data.nonclk\")\n",
    "    #label = [click, no_click]\n",
    "    site_id = get_normal_data(batch_data, \"site_id\")\n",
    "    site_domain =  get_normal_data(batch_data, \"site_domain\")\n",
    "    site_category = get_normal_data(batch_data, \"site_category\")\n",
    "    app_id =  get_normal_data(batch_data, \"app_id\")\n",
    "    app_domain = get_normal_data(batch_data, \"app_domain\")\n",
    "    app_category = get_normal_data(batch_data, \"app_category\")\n",
    "    device_id = get_normal_data(batch_data, \"device_id\")\n",
    "    device_model = get_normal_data(batch_data, \"device_model\")\n",
    "    device_type = get_normal_data(batch_data, \"device_type\")\n",
    "    device_conn_type = get_normal_data(batch_data, \"device_conn_type\")\n",
    "    #print('reshape_len is',reshape_len)\n",
    "    return convert_tensor(banner_pos),convert_tensor(id), convert_tensor(site_id), convert_tensor(site_domain), convert_tensor(site_category), convert_tensor(app_id), convert_tensor(app_domain), convert_tensor(app_category), convert_tensor(device_id), convert_tensor(device_model), convert_tensor(device_type), convert_tensor(device_conn_type),  convert_tensor(hour), convert_tensor(C1), convert_tensor(C14),convert_tensor(C15), convert_tensor(C16),convert_tensor(C17), convert_tensor(C18),convert_tensor(C19), convert_tensor(C20),convert_tensor(C21), min_batch + batch\n"
   ]
  },
  {
   "cell_type": "code",
   "execution_count": 39,
   "metadata": {},
   "outputs": [],
   "source": [
    "batch_size=1000\n",
    "banner_pos, id,site_id, site_domain, site_category, app_id, app_domain, app_category, device_id, device_model, device_type, device_conn_type, hour, C1, C14,C15, C16,C17, C18,C19, C20,C21, min_batch = get_evaluate_data(test_data,batch)\n",
    "user_profile_dict, user_profile_list, user_behavior_list, click_behavior_dict, noclick_behavior_dict, target_item_dict = data_reader.get_train_data( banner_pos, id,site_id, site_domain, site_category, app_id, app_domain, app_category, device_id, device_model, device_type, device_conn_type,  hour, C1, C14,C15, C16,C17, C18,C19, C20,C21, min_batch) \n",
    "output, logit, aux_loss = model(user_profile_dict, user_profile_list, click_behavior_dict, target_item_dict, noclick_behavior_dict, user_behavior_list,batch_size)\n"
   ]
  },
  {
   "cell_type": "code",
   "execution_count": 40,
   "metadata": {},
   "outputs": [
    {
     "name": "stdout",
     "output_type": "stream",
     "text": [
      "[训练集]正例:负例=117218 : 616785\n",
      "[测试集]正例:负例=50280 : 264292\n"
     ]
    }
   ],
   "source": [
    "train_label = train_data[\"click\"].values\n",
    "positive_num = len(train_label[train_label == 1])\n",
    "negative_num = len(train_label[train_label == 0])\n",
    "print(\"[训练集]正例:负例=%d : %d\" % (positive_num, negative_num))\n",
    "test_label = valid_data[\"click\"].values\n",
    "positive_num = len(test_label[test_label == 1])\n",
    "negative_num = len(test_label[test_label == 0])\n",
    "print(\"[测试集]正例:负例=%d : %d\" % (positive_num, negative_num))"
   ]
  },
  {
   "cell_type": "code",
   "execution_count": 41,
   "metadata": {},
   "outputs": [],
   "source": [
    "y_true = label.numpy()[:,-1]\n",
    "y_score = output.numpy()[:,-1]"
   ]
  },
  {
   "cell_type": "code",
   "execution_count": 42,
   "metadata": {},
   "outputs": [],
   "source": [
    "threshold = 0.0031\n",
    "y_pre = y_score.copy()\n",
    "y_pre[y_pre > threshold] = 1\n",
    "y_pre[y_pre <= threshold] = 0"
   ]
  },
  {
   "cell_type": "code",
   "execution_count": 43,
   "metadata": {},
   "outputs": [],
   "source": [
    "import numpy as np\n",
    "from sklearn.metrics import accuracy_score\n",
    "from sklearn.metrics import f1_score\n",
    "from sklearn.metrics import auc\n",
    "import sklearn.metrics as sm\n",
    "from sklearn.metrics import roc_curve, auc\n",
    "import matplotlib as mpl  \n",
    "import matplotlib.pyplot as plt"
   ]
  },
  {
   "cell_type": "code",
   "execution_count": 44,
   "metadata": {},
   "outputs": [
    {
     "name": "stdout",
     "output_type": "stream",
     "text": [
      "0.156\n"
     ]
    }
   ],
   "source": [
    "print(accuracy_score(y_true, y_pre))"
   ]
  },
  {
   "cell_type": "code",
   "execution_count": 45,
   "metadata": {},
   "outputs": [
    {
     "name": "stdout",
     "output_type": "stream",
     "text": [
      "混淆矩阵为：\n",
      "[[  0 844]\n",
      " [  0 156]]\n"
     ]
    }
   ],
   "source": [
    "m = sm.confusion_matrix(y_true, y_pre)\n",
    "print('混淆矩阵为：', m, sep='\\n')"
   ]
  },
  {
   "cell_type": "code",
   "execution_count": 46,
   "metadata": {},
   "outputs": [
    {
     "name": "stdout",
     "output_type": "stream",
     "text": [
      "分类报告为：\n",
      "              precision    recall  f1-score   support\n",
      "\n",
      "         0.0       0.00      0.00      0.00       844\n",
      "         1.0       0.16      1.00      0.27       156\n",
      "\n",
      "    accuracy                           0.16      1000\n",
      "   macro avg       0.08      0.50      0.13      1000\n",
      "weighted avg       0.02      0.16      0.04      1000\n",
      "\n"
     ]
    },
    {
     "name": "stderr",
     "output_type": "stream",
     "text": [
      "C:\\Anaconda\\lib\\site-packages\\sklearn\\metrics\\_classification.py:1221: UndefinedMetricWarning: Precision and F-score are ill-defined and being set to 0.0 in labels with no predicted samples. Use `zero_division` parameter to control this behavior.\n",
      "  _warn_prf(average, modifier, msg_start, len(result))\n"
     ]
    }
   ],
   "source": [
    "r = sm.classification_report(y_true, y_pre)\n",
    "print('分类报告为：', r, sep='\\n')"
   ]
  },
  {
   "cell_type": "code",
   "execution_count": 47,
   "metadata": {},
   "outputs": [
    {
     "data": {
      "text/plain": [
       "0.5013974966581601"
      ]
     },
     "execution_count": 47,
     "metadata": {},
     "output_type": "execute_result"
    }
   ],
   "source": [
    "from sklearn.metrics import roc_auc_score\n",
    "auc_score = roc_auc_score(y_true,y_score)\n",
    "auc_score"
   ]
  },
  {
   "cell_type": "code",
   "execution_count": 48,
   "metadata": {},
   "outputs": [],
   "source": [
    "def plot_roc(labels, predict_prob):\n",
    "    false_positive_rate,true_positive_rate,thresholds=roc_curve(labels, predict_prob)\n",
    "    roc_auc=auc(false_positive_rate, true_positive_rate)\n",
    "    plt.title('ROC')\n",
    "    plt.plot(false_positive_rate, true_positive_rate,'b',label='AUC = %0.4f'% roc_auc)\n",
    "    plt.legend(loc='lower right')\n",
    "    plt.plot([0,1],[0,1],'r--')\n",
    "    plt.ylabel('TPR')\n",
    "    plt.xlabel('FPR')\n",
    "    plt.show()"
   ]
  },
  {
   "cell_type": "code",
   "execution_count": 49,
   "metadata": {},
   "outputs": [
    {
     "data": {
      "image/png": "[encoded data removed]",
      "text/plain": [
       "<Figure size 432x288 with 1 Axes>"
      ]
     },
     "metadata": {
      "needs_background": "light"
     },
     "output_type": "display_data"
    }
   ],
   "source": [
    "plot_roc(y_true, y_score)"
   ]
  },
  {
   "cell_type": "markdown",
   "metadata": {},
   "source": [
    "# 整体训练图像"
   ]
  },
  {
   "cell_type": "code",
   "execution_count": 51,
   "metadata": {},
   "outputs": [
    {
     "data": {
      "text/html": [
       "<div>\n",
       "<style scoped>\n",
       "    .dataframe tbody tr th:only-of-type {\n",
       "        vertical-align: middle;\n",
       "    }\n",
       "\n",
       "    .dataframe tbody tr th {\n",
       "        vertical-align: top;\n",
       "    }\n",
       "\n",
       "    .dataframe thead th {\n",
       "        text-align: right;\n",
       "    }\n",
       "</style>\n",
       "<table border=\"1\" class=\"dataframe\">\n",
       "  <thead>\n",
       "    <tr style=\"text-align: right;\">\n",
       "      <th></th>\n",
       "      <th>train_aux_loss</th>\n",
       "      <th>train_target_loss</th>\n",
       "      <th>train_final_loss</th>\n",
       "    </tr>\n",
       "  </thead>\n",
       "  <tbody>\n",
       "  </tbody>\n",
       "</table>\n",
       "</div>"
      ],
      "text/plain": [
       "Empty DataFrame\n",
       "Columns: [train_aux_loss, train_target_loss, train_final_loss]\n",
       "Index: []"
      ]
     },
     "execution_count": 51,
     "metadata": {},
     "output_type": "execute_result"
    }
   ],
   "source": [
    "train_loss_data = pd.read_csv(\"./loss/dien/train_loss.csv.2022_03_23_00_42_04\")\n",
    "train_loss_data"
   ]
  },
  {
   "cell_type": "code",
   "execution_count": 52,
   "metadata": {},
   "outputs": [
    {
     "data": {
      "text/html": [
       "<div>\n",
       "<style scoped>\n",
       "    .dataframe tbody tr th:only-of-type {\n",
       "        vertical-align: middle;\n",
       "    }\n",
       "\n",
       "    .dataframe tbody tr th {\n",
       "        vertical-align: top;\n",
       "    }\n",
       "\n",
       "    .dataframe thead th {\n",
       "        text-align: right;\n",
       "    }\n",
       "</style>\n",
       "<table border=\"1\" class=\"dataframe\">\n",
       "  <thead>\n",
       "    <tr style=\"text-align: right;\">\n",
       "      <th></th>\n",
       "      <th>test_aux_loss</th>\n",
       "      <th>test_target_loss</th>\n",
       "      <th>test_final_loss</th>\n",
       "    </tr>\n",
       "  </thead>\n",
       "  <tbody>\n",
       "  </tbody>\n",
       "</table>\n",
       "</div>"
      ],
      "text/plain": [
       "Empty DataFrame\n",
       "Columns: [test_aux_loss, test_target_loss, test_final_loss]\n",
       "Index: []"
      ]
     },
     "execution_count": 52,
     "metadata": {},
     "output_type": "execute_result"
    }
   ],
   "source": [
    "test_loss_data = pd.read_csv(\"./loss/dien/test_loss.csv.2022_03_23_00_42_04\")\n",
    "test_loss_data"
   ]
  },
  {
   "cell_type": "code",
   "execution_count": 53,
   "metadata": {},
   "outputs": [],
   "source": [
    "def get_loss_fig_aux(train_loss_data, test_loss_data):\n",
    "    train_loss = {\n",
    "        \"aux_loss\":list(train_loss_data[\"train_\" + \"aux_loss\"].values), \n",
    "        \"target_loss\":list(train_loss_data[\"train_\" + \"target_loss\"].values), \n",
    "        \"final_loss\":list(train_loss_data[\"train_\" + \"final_loss\"].values)\n",
    "    }\n",
    "    test_loss = {\n",
    "        \"aux_loss\":list(test_loss_data[\"test_\" + \"aux_loss\"].values), \n",
    "        \"target_loss\":list(test_loss_data[\"test_\" + \"target_loss\"].values), \n",
    "        \"final_loss\":list(test_loss_data[\"test_\" + \"final_loss\"].values)\n",
    "    }\n",
    "    get_loss_fig(train_loss, test_loss)"
   ]
  },
  {
   "cell_type": "code",
   "execution_count": 54,
   "metadata": {},
   "outputs": [
    {
     "data": {
      "image/png": "[encoded data removed]",
      "text/plain": [
       "<Figure size 432x288 with 1 Axes>"
      ]
     },
     "metadata": {
      "needs_background": "light"
     },
     "output_type": "display_data"
    }
   ],
   "source": [
    "get_loss_fig_aux(train_loss_data, test_loss_data)"
   ]
  },
  {
   "cell_type": "code",
   "execution_count": null,
   "metadata": {},
   "outputs": [],
   "source": []
  }
 ],
 "metadata": {
  "kernelspec": {
   "display_name": "Python 3",
   "language": "python",
   "name": "python3"
  },
  "language_info": {
   "codemirror_mode": {
    "name": "ipython",
    "version": 3
   },
   "file_extension": ".py",
   "mimetype": "text/x-python",
   "name": "python",
   "nbconvert_exporter": "python",
   "pygments_lexer": "ipython3",
   "version": "3.7.7"
  }
 },
 "nbformat": 4,
 "nbformat_minor": 4
}
